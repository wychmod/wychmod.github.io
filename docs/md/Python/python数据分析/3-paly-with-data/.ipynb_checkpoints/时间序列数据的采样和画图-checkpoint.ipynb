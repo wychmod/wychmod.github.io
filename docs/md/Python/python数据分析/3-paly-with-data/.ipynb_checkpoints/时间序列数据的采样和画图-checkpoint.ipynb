{
 "cells": [
  {
   "cell_type": "code",
   "execution_count": 1,
   "metadata": {
    "collapsed": true
   },
   "outputs": [],
   "source": [
    "import numpy as np\n",
    "import pandas as pd\n",
    "from pandas import Series, DataFrame"
   ]
  },
  {
   "cell_type": "code",
   "execution_count": 2,
   "metadata": {
    "collapsed": true
   },
   "outputs": [],
   "source": [
    "t_range = pd.date_range('2016-01-01', '2016-12-31')"
   ]
  },
  {
   "cell_type": "code",
   "execution_count": 3,
   "metadata": {},
   "outputs": [
    {
     "data": {
      "text/plain": [
       "DatetimeIndex(['2016-01-01', '2016-01-02', '2016-01-03', '2016-01-04',\n",
       "               '2016-01-05', '2016-01-06', '2016-01-07', '2016-01-08',\n",
       "               '2016-01-09', '2016-01-10',\n",
       "               ...\n",
       "               '2016-12-22', '2016-12-23', '2016-12-24', '2016-12-25',\n",
       "               '2016-12-26', '2016-12-27', '2016-12-28', '2016-12-29',\n",
       "               '2016-12-30', '2016-12-31'],\n",
       "              dtype='datetime64[ns]', length=366, freq='D')"
      ]
     },
     "execution_count": 3,
     "metadata": {},
     "output_type": "execute_result"
    }
   ],
   "source": [
    "t_range"
   ]
  },
  {
   "cell_type": "code",
   "execution_count": 4,
   "metadata": {
    "collapsed": true
   },
   "outputs": [],
   "source": [
    "s1 = Series(np.random.randn(len(t_range)), index=t_range)"
   ]
  },
  {
   "cell_type": "code",
   "execution_count": 7,
   "metadata": {},
   "outputs": [
    {
     "data": {
      "text/plain": [
       "-0.13632025497138667"
      ]
     },
     "execution_count": 7,
     "metadata": {},
     "output_type": "execute_result"
    }
   ],
   "source": [
    "s1['2016-01'].mean()"
   ]
  },
  {
   "cell_type": "code",
   "execution_count": 8,
   "metadata": {
    "collapsed": true
   },
   "outputs": [],
   "source": [
    "s1_month = s1.resample('M').mean()"
   ]
  },
  {
   "cell_type": "code",
   "execution_count": 10,
   "metadata": {},
   "outputs": [
    {
     "data": {
      "text/plain": [
       "DatetimeIndex(['2016-01-31', '2016-02-29', '2016-03-31', '2016-04-30',\n",
       "               '2016-05-31', '2016-06-30', '2016-07-31', '2016-08-31',\n",
       "               '2016-09-30', '2016-10-31', '2016-11-30', '2016-12-31'],\n",
       "              dtype='datetime64[ns]', freq='M')"
      ]
     },
     "execution_count": 10,
     "metadata": {},
     "output_type": "execute_result"
    }
   ],
   "source": [
    "s1_month.index"
   ]
  },
  {
   "cell_type": "code",
   "execution_count": 16,
   "metadata": {},
   "outputs": [
    {
     "data": {
      "text/plain": [
       "2016-01-01 00:00:00    0.566248\n",
       "2016-01-01 01:00:00   -0.062260\n",
       "2016-01-01 02:00:00   -0.062260\n",
       "2016-01-01 03:00:00   -0.062260\n",
       "2016-01-01 04:00:00   -0.062260\n",
       "2016-01-01 05:00:00   -0.062260\n",
       "2016-01-01 06:00:00   -0.062260\n",
       "2016-01-01 07:00:00   -0.062260\n",
       "2016-01-01 08:00:00   -0.062260\n",
       "2016-01-01 09:00:00   -0.062260\n",
       "2016-01-01 10:00:00   -0.062260\n",
       "2016-01-01 11:00:00   -0.062260\n",
       "2016-01-01 12:00:00   -0.062260\n",
       "2016-01-01 13:00:00   -0.062260\n",
       "2016-01-01 14:00:00   -0.062260\n",
       "2016-01-01 15:00:00   -0.062260\n",
       "2016-01-01 16:00:00   -0.062260\n",
       "2016-01-01 17:00:00   -0.062260\n",
       "2016-01-01 18:00:00   -0.062260\n",
       "2016-01-01 19:00:00   -0.062260\n",
       "2016-01-01 20:00:00   -0.062260\n",
       "2016-01-01 21:00:00   -0.062260\n",
       "2016-01-01 22:00:00   -0.062260\n",
       "2016-01-01 23:00:00   -0.062260\n",
       "2016-01-02 00:00:00   -0.062260\n",
       "2016-01-02 01:00:00   -0.812622\n",
       "2016-01-02 02:00:00   -0.812622\n",
       "2016-01-02 03:00:00   -0.812622\n",
       "2016-01-02 04:00:00   -0.812622\n",
       "2016-01-02 05:00:00   -0.812622\n",
       "                         ...   \n",
       "2016-12-29 19:00:00   -1.447418\n",
       "2016-12-29 20:00:00   -1.447418\n",
       "2016-12-29 21:00:00   -1.447418\n",
       "2016-12-29 22:00:00   -1.447418\n",
       "2016-12-29 23:00:00   -1.447418\n",
       "2016-12-30 00:00:00   -1.447418\n",
       "2016-12-30 01:00:00    0.373758\n",
       "2016-12-30 02:00:00    0.373758\n",
       "2016-12-30 03:00:00    0.373758\n",
       "2016-12-30 04:00:00    0.373758\n",
       "2016-12-30 05:00:00    0.373758\n",
       "2016-12-30 06:00:00    0.373758\n",
       "2016-12-30 07:00:00    0.373758\n",
       "2016-12-30 08:00:00    0.373758\n",
       "2016-12-30 09:00:00    0.373758\n",
       "2016-12-30 10:00:00    0.373758\n",
       "2016-12-30 11:00:00    0.373758\n",
       "2016-12-30 12:00:00    0.373758\n",
       "2016-12-30 13:00:00    0.373758\n",
       "2016-12-30 14:00:00    0.373758\n",
       "2016-12-30 15:00:00    0.373758\n",
       "2016-12-30 16:00:00    0.373758\n",
       "2016-12-30 17:00:00    0.373758\n",
       "2016-12-30 18:00:00    0.373758\n",
       "2016-12-30 19:00:00    0.373758\n",
       "2016-12-30 20:00:00    0.373758\n",
       "2016-12-30 21:00:00    0.373758\n",
       "2016-12-30 22:00:00    0.373758\n",
       "2016-12-30 23:00:00    0.373758\n",
       "2016-12-31 00:00:00    0.373758\n",
       "Freq: H, Length: 8761, dtype: float64"
      ]
     },
     "execution_count": 16,
     "metadata": {},
     "output_type": "execute_result"
    }
   ],
   "source": [
    "s1.resample('H').bfill()"
   ]
  },
  {
   "cell_type": "code",
   "execution_count": 17,
   "metadata": {
    "collapsed": true
   },
   "outputs": [],
   "source": [
    "t_range = pd.date_range('2016-01-01', '2016-12-31', freq='H')"
   ]
  },
  {
   "cell_type": "code",
   "execution_count": 18,
   "metadata": {},
   "outputs": [
    {
     "data": {
      "text/plain": [
       "DatetimeIndex(['2016-01-01 00:00:00', '2016-01-01 01:00:00',\n",
       "               '2016-01-01 02:00:00', '2016-01-01 03:00:00',\n",
       "               '2016-01-01 04:00:00', '2016-01-01 05:00:00',\n",
       "               '2016-01-01 06:00:00', '2016-01-01 07:00:00',\n",
       "               '2016-01-01 08:00:00', '2016-01-01 09:00:00',\n",
       "               ...\n",
       "               '2016-12-30 15:00:00', '2016-12-30 16:00:00',\n",
       "               '2016-12-30 17:00:00', '2016-12-30 18:00:00',\n",
       "               '2016-12-30 19:00:00', '2016-12-30 20:00:00',\n",
       "               '2016-12-30 21:00:00', '2016-12-30 22:00:00',\n",
       "               '2016-12-30 23:00:00', '2016-12-31 00:00:00'],\n",
       "              dtype='datetime64[ns]', length=8761, freq='H')"
      ]
     },
     "execution_count": 18,
     "metadata": {},
     "output_type": "execute_result"
    }
   ],
   "source": [
    "t_range"
   ]
  },
  {
   "cell_type": "code",
   "execution_count": 19,
   "metadata": {
    "collapsed": true
   },
   "outputs": [],
   "source": [
    "stock_df = DataFrame(index=t_range)"
   ]
  },
  {
   "cell_type": "code",
   "execution_count": 24,
   "metadata": {},
   "outputs": [],
   "source": [
    "stock_df['BABA'] = np.random.randint(80, 160, size=len(t_range))"
   ]
  },
  {
   "cell_type": "code",
   "execution_count": 26,
   "metadata": {},
   "outputs": [],
   "source": [
    "stock_df['TENCENT'] = np.random.randint(30, 50, size=len(t_range))"
   ]
  },
  {
   "cell_type": "code",
   "execution_count": 28,
   "metadata": {},
   "outputs": [
    {
     "data": {
      "text/html": [
       "<div>\n",
       "<style>\n",
       "    .dataframe thead tr:only-child th {\n",
       "        text-align: right;\n",
       "    }\n",
       "\n",
       "    .dataframe thead th {\n",
       "        text-align: left;\n",
       "    }\n",
       "\n",
       "    .dataframe tbody tr th {\n",
       "        vertical-align: top;\n",
       "    }\n",
       "</style>\n",
       "<table border=\"1\" class=\"dataframe\">\n",
       "  <thead>\n",
       "    <tr style=\"text-align: right;\">\n",
       "      <th></th>\n",
       "      <th>BABA</th>\n",
       "      <th>TENCENT</th>\n",
       "    </tr>\n",
       "  </thead>\n",
       "  <tbody>\n",
       "    <tr>\n",
       "      <th>2016-01-01 00:00:00</th>\n",
       "      <td>121</td>\n",
       "      <td>38</td>\n",
       "    </tr>\n",
       "    <tr>\n",
       "      <th>2016-01-01 01:00:00</th>\n",
       "      <td>133</td>\n",
       "      <td>33</td>\n",
       "    </tr>\n",
       "    <tr>\n",
       "      <th>2016-01-01 02:00:00</th>\n",
       "      <td>121</td>\n",
       "      <td>34</td>\n",
       "    </tr>\n",
       "    <tr>\n",
       "      <th>2016-01-01 03:00:00</th>\n",
       "      <td>135</td>\n",
       "      <td>46</td>\n",
       "    </tr>\n",
       "    <tr>\n",
       "      <th>2016-01-01 04:00:00</th>\n",
       "      <td>136</td>\n",
       "      <td>40</td>\n",
       "    </tr>\n",
       "  </tbody>\n",
       "</table>\n",
       "</div>"
      ],
      "text/plain": [
       "                     BABA  TENCENT\n",
       "2016-01-01 00:00:00   121       38\n",
       "2016-01-01 01:00:00   133       33\n",
       "2016-01-01 02:00:00   121       34\n",
       "2016-01-01 03:00:00   135       46\n",
       "2016-01-01 04:00:00   136       40"
      ]
     },
     "execution_count": 28,
     "metadata": {},
     "output_type": "execute_result"
    }
   ],
   "source": [
    "stock_df.head()"
   ]
  },
  {
   "cell_type": "code",
   "execution_count": 29,
   "metadata": {},
   "outputs": [
    {
     "data": {
      "text/plain": [
       "<matplotlib.axes._subplots.AxesSubplot at 0x1108e3198>"
      ]
     },
     "execution_count": 29,
     "metadata": {},
     "output_type": "execute_result"
    }
   ],
   "source": [
    "stock_df.plot()"
   ]
  },
  {
   "cell_type": "code",
   "execution_count": 30,
   "metadata": {},
   "outputs": [
    {
     "data": {
      "image/png": "[encoded data removed]",
      "text/plain": [
       "<matplotlib.figure.Figure at 0x10fcf7400>"
      ]
     },
     "metadata": {},
     "output_type": "display_data"
    }
   ],
   "source": [
    "import matplotlib.pyplot as plt\n",
    "plt.show()"
   ]
  },
  {
   "cell_type": "code",
   "execution_count": 31,
   "metadata": {
    "collapsed": true
   },
   "outputs": [],
   "source": [
    "weekly_df = DataFrame()"
   ]
  },
  {
   "cell_type": "code",
   "execution_count": 32,
   "metadata": {
    "collapsed": true
   },
   "outputs": [],
   "source": [
    "weekly_df['BABA'] = stock_df['BABA'].resample('W').mean()"
   ]
  },
  {
   "cell_type": "code",
   "execution_count": 33,
   "metadata": {
    "collapsed": true
   },
   "outputs": [],
   "source": [
    "weekly_df['TENCENT'] = stock_df['TENCENT'].resample('W').mean()"
   ]
  },
  {
   "cell_type": "code",
   "execution_count": 34,
   "metadata": {},
   "outputs": [
    {
     "data": {
      "text/html": [
       "<div>\n",
       "<style>\n",
       "    .dataframe thead tr:only-child th {\n",
       "        text-align: right;\n",
       "    }\n",
       "\n",
       "    .dataframe thead th {\n",
       "        text-align: left;\n",
       "    }\n",
       "\n",
       "    .dataframe tbody tr th {\n",
       "        vertical-align: top;\n",
       "    }\n",
       "</style>\n",
       "<table border=\"1\" class=\"dataframe\">\n",
       "  <thead>\n",
       "    <tr style=\"text-align: right;\">\n",
       "      <th></th>\n",
       "      <th>BABA</th>\n",
       "      <th>TENCENT</th>\n",
       "    </tr>\n",
       "  </thead>\n",
       "  <tbody>\n",
       "    <tr>\n",
       "      <th>2016-01-03</th>\n",
       "      <td>121.013889</td>\n",
       "      <td>39.041667</td>\n",
       "    </tr>\n",
       "    <tr>\n",
       "      <th>2016-01-10</th>\n",
       "      <td>117.791667</td>\n",
       "      <td>39.422619</td>\n",
       "    </tr>\n",
       "    <tr>\n",
       "      <th>2016-01-17</th>\n",
       "      <td>122.011905</td>\n",
       "      <td>40.220238</td>\n",
       "    </tr>\n",
       "    <tr>\n",
       "      <th>2016-01-24</th>\n",
       "      <td>122.714286</td>\n",
       "      <td>39.184524</td>\n",
       "    </tr>\n",
       "    <tr>\n",
       "      <th>2016-01-31</th>\n",
       "      <td>121.392857</td>\n",
       "      <td>39.601190</td>\n",
       "    </tr>\n",
       "  </tbody>\n",
       "</table>\n",
       "</div>"
      ],
      "text/plain": [
       "                  BABA    TENCENT\n",
       "2016-01-03  121.013889  39.041667\n",
       "2016-01-10  117.791667  39.422619\n",
       "2016-01-17  122.011905  40.220238\n",
       "2016-01-24  122.714286  39.184524\n",
       "2016-01-31  121.392857  39.601190"
      ]
     },
     "execution_count": 34,
     "metadata": {},
     "output_type": "execute_result"
    }
   ],
   "source": [
    "weekly_df.head()"
   ]
  },
  {
   "cell_type": "code",
   "execution_count": 35,
   "metadata": {},
   "outputs": [
    {
     "data": {
      "text/plain": [
       "<matplotlib.axes._subplots.AxesSubplot at 0x1108e30f0>"
      ]
     },
     "execution_count": 35,
     "metadata": {},
     "output_type": "execute_result"
    }
   ],
   "source": [
    "weekly_df.plot()"
   ]
  },
  {
   "cell_type": "code",
   "execution_count": 36,
   "metadata": {},
   "outputs": [
    {
     "data": {
      "image/png": "[encoded data removed]",
      "text/plain": [
       "<matplotlib.figure.Figure at 0x113ea36d8>"
      ]
     },
     "metadata": {},
     "output_type": "display_data"
    }
   ],
   "source": [
    "plt.show()"
   ]
  },
  {
   "cell_type": "code",
   "execution_count": null,
   "metadata": {
    "collapsed": true
   },
   "outputs": [],
   "source": []
  }
 ],
 "metadata": {
  "kernelspec": {
   "display_name": "Python 3",
   "language": "python",
   "name": "python3"
  },
  "language_info": {
   "codemirror_mode": {
    "name": "ipython",
    "version": 3
   },
   "file_extension": ".py",
   "mimetype": "text/x-python",
   "name": "python",
   "nbconvert_exporter": "python",
   "pygments_lexer": "ipython3",
   "version": "3.6.1"
  }
 },
 "nbformat": 4,
 "nbformat_minor": 2
}
